{
 "cells": [
  {
   "cell_type": "markdown",
   "metadata": {},
   "source": [
    "# SNAIL Probe Designer Test\n",
    "This experiment will test the program to identify and construct sequences that can be used to design probe systems for SNAIL experiments. SNAIL probes are used for Proximity Ligation Assays in single molecule Fluorescence In Situ Hybridization. The SNAIL probe scheme is flexible, specific, and multiplexible, as demonstrated by [Wang et al (2018)](http://science.sciencemag.org/content/361/6400/eaat5691/tab-figures-data) in their STARMap method. The SNAIL probes can be barcoded and read in situ using the SEDAL probe method.\n",
    "\n",
    "From Figure 1A of the STARMap paper:\n",
    "![SNAIL probe anatomy from Wang et al 2018](../../3_docs/img/snail-probe-example.PNG)\n",
    ">Design of SNAIL probes (one component of STARmap): each primer or padlock probe has 19-25 nt (labeled by blue double-headed arrows) to hybridize with target RNA with a designed Tm of 60oC, while the complementary sequence between the primer and padlock is only 6 nt on each arm (labeled by red doubleheaded arrow) with Tm below room temperature, so that primer-padlock DNA-DNA hybridization is negligible during DNA-RNA hybridization at 40oC, but allows DNA ligation by T4 DNA ligase in the following step. Tm, melting temperature of nucleic acids. \n",
    "\n",
    "And from Figure 3A of the STARMap paper:\n",
    "![SEDAL sequencing example from WANg et al 2018](../../3_docs/img/sedal-probe-example.PNG)\n",
    ">SEDAL involves a T4 DNA ligase with activity strongly hindered by base mismatches, and two kinds of sequencing probes: reading probes that set the base position to be interrogated, and fluorescent decoding probes that transduce base information into colors for imaging. Unlike other sequencing-by-ligation methods which use preannealed reading probes (or equivalent), the reading probe in SEDAL is short (11 nt, with Tm near room temperature), partially degenerate (as shown here, for cycle 4, the first two base at 5’ end are N, equal amount mixture of A, T, C and G), and mixed with decoding probes and T4 DNA ligase for a one-step reaction. At room temperature, the reading probe remains in a dynamic state of annealing with and detaching from the DNA template. Only when the reading probe perfectly matches the DNA template, T4 DNA ligase (blue) ligates it to the fluorescent 8-nt decoding probe. The short reading and decoding probes are then washed away, leaving fluorescent 19-nt products stably hybridized to the DNA amplicon for imaging. For the next cycle, previous fluorescent products are stripped and the reading probe includes one more degenerate base to shift the reading frame by one base (Fig. 1E). 5’P: 5’ phosphate. 3’InvT: 3’ inverted dT base that prevents self-ligation of the reading probe. 3’OH: 3’ hydroxyl group. \n",
    "\n",
    "The STARMap system is in two parts: (1) a set of splint and padlock probes which hybridize to the target RNA (SNAIL), and (2) a series of _reading_ and _fluorescent_ probes which are used to decode a barcode in the padlock portion of the SNAIL probe."
   ]
  },
  {
   "cell_type": "code",
   "execution_count": 22,
   "metadata": {
    "ExecuteTime": {
     "end_time": "2019-02-14T17:30:28.045814Z",
     "start_time": "2019-02-14T17:30:28.035897Z"
    }
   },
   "outputs": [],
   "source": [
    "# run to import the snail probe designer class\n",
    "%run snail_probe_designer.py"
   ]
  },
  {
   "cell_type": "markdown",
   "metadata": {},
   "source": [
    "## RNA Probes\n",
    "### Steps\n",
    "1. Obtain the sequence to design probes for.\n",
    "2. Get the length desired for the probe.\n",
    "3. Get the desired length for the separation between the splint and the padlock.\n",
    "4. Get the **barcode** to be included in the padlock.\n",
    "4. Build the **reverse complement** of the sequence.\n",
    "5. Isolate all k-mers of desired length and separation."
   ]
  },
  {
   "cell_type": "code",
   "execution_count": 23,
   "metadata": {
    "ExecuteTime": {
     "end_time": "2019-02-14T17:32:11.367042Z",
     "start_time": "2019-02-14T17:30:32.412494Z"
    },
    "scrolled": true
   },
   "outputs": [
    {
     "name": "stdout",
     "output_type": "stream",
     "text": [
      "6872 potential probe pairs found.\n",
      "The best probes are:\n",
      "('TGGTCTGGAAGTAGCGATT', 'GACTTGGGAGGGATTTTGA', 0.0, 4.444444444444444)\n",
      "('CTTGTTGGAGAAGGCTTTG', 'GGTAGATGATGAGGGTGTT', 0.0, 4.666666666666667)\n",
      "('CTTCTGATCCTGGCATTCT', 'CTTCGCACTGTTTCTGGTA', 0.0, 6.0)\n",
      "('TAGATTCTGTGAATGCCCC', 'GGACAACCATAAACCACCA', 0.0, 7.111111111111111)\n"
     ]
    }
   ],
   "source": [
    "spd = snail_probe_designer(tm=(55,60),gc=(40,60), sep=(0,4))\n",
    "spd.prime(\"../../0_data/raw/c3.fasta\", \"C3\")\n",
    "spd.get_kmers()\n",
    "spd.score_kmers()\n",
    "spd.write_probes_to_csv(\"../../2_output/temp/c3_probes.csv\")\n",
    "spd.write_probes_to_eurogentec(\"../../2_output/temp/c3_probes_eurogentec.xlsx\")\n",
    "print(\"{} potential probe pairs found.\".format(len(spd.scored_probe_pairs)))\n",
    "\n",
    "# print out the top probe pairs, one per line\n",
    "top_probes = spd.get_top_probes()\n",
    "print(\"The best probes are:\")\n",
    "for i in range(len(top_probes)):\n",
    "    print(top_probes[i])"
   ]
  },
  {
   "cell_type": "markdown",
   "metadata": {},
   "source": [
    "## Resources\n",
    "1. [Primer Design](http://www.premierbiosoft.com/tech_notes/PCR_Primer_Design.html)"
   ]
  },
  {
   "cell_type": "code",
   "execution_count": 24,
   "metadata": {
    "ExecuteTime": {
     "end_time": "2019-02-14T17:32:22.399485Z",
     "start_time": "2019-02-14T17:32:22.354609Z"
    }
   },
   "outputs": [],
   "source": [
    "spd.sanity_check_probes('../../2_output/temp/c3_sanity_check.html')"
   ]
  },
  {
   "cell_type": "code",
   "execution_count": null,
   "metadata": {},
   "outputs": [],
   "source": []
  }
 ],
 "metadata": {
  "hide_input": false,
  "kernelspec": {
   "display_name": "Python 3",
   "language": "python",
   "name": "python3"
  },
  "language_info": {
   "codemirror_mode": {
    "name": "ipython",
    "version": 3
   },
   "file_extension": ".py",
   "mimetype": "text/x-python",
   "name": "python",
   "nbconvert_exporter": "python",
   "pygments_lexer": "ipython3",
   "version": "3.7.1"
  },
  "varInspector": {
   "cols": {
    "lenName": 16,
    "lenType": 16,
    "lenVar": 40
   },
   "kernels_config": {
    "python": {
     "delete_cmd_postfix": "",
     "delete_cmd_prefix": "del ",
     "library": "var_list.py",
     "varRefreshCmd": "print(var_dic_list())"
    },
    "r": {
     "delete_cmd_postfix": ") ",
     "delete_cmd_prefix": "rm(",
     "library": "var_list.r",
     "varRefreshCmd": "cat(var_dic_list()) "
    }
   },
   "types_to_exclude": [
    "module",
    "function",
    "builtin_function_or_method",
    "instance",
    "_Feature"
   ],
   "window_display": false
  }
 },
 "nbformat": 4,
 "nbformat_minor": 2
}
