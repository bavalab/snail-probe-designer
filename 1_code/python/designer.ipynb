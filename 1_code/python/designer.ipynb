{
 "cells": [
  {
   "cell_type": "markdown",
   "metadata": {},
   "source": [
    "# SNAIL Probe Designer\n",
    "## Instructions\n",
    "Adjust the values below to match your specifications for the experiment. This script will output \n",
    "1. Set the minimum and maximum melting temperatures you wish to use.\n",
    "2. Set the percentage G content of the probes (i.e. 40% as 40).\n",
    "3. Set the maximum number of base pairs to separate the splint and the padlock.\n",
    "4. Set the minimum and maximum length of the probes.\n",
    "5. Set the name of the target in between quotes (i.e. \"target name\").\n",
    "6. Set the first part of the padlock in between quotes.\n",
    "7. Set the moveable arm of the splint in between quotes.\n",
    "8. Set the barcode padlock in between quotes.\n",
    "9. Set the name of the Excel file to save the probes to in quotes.\n",
    "10. Set the sequence to find the probes for in between quotes."
   ]
  },
  {
   "cell_type": "code",
   "execution_count": null,
   "metadata": {},
   "outputs": [],
   "source": [
    "# BELOW ARE DEFAULT VALUES, ADJUST AS NEEDED\n",
    "###############################################################################\n",
    "\n",
    "# SET THE MINIMUM TEMPERATURE\n",
    "min_temp = 55\n",
    "# SET THE MAXIMUM TEMPERATURE\n",
    "max_temp = 60\n",
    "# SET THE PERCENTAGE G CONTENT\n",
    "g_content = 40\n",
    "# SET THE MAXIMUM SEPARATION BETWEEN SPLINT AND PADLOCK\n",
    "max_sep = 4\n",
    "# SET THE MINIMUM PROBE LENGTH\n",
    "min_length = 18\n",
    "# SET THE MAXIMUM PROBE LENGTH\n",
    "max_length = 24\n",
    "# SET THE NAME OF THE GENE/TARGET\n",
    "target_name = \"\"\n",
    "# SET THE FISRT PART OF THE PADLOCK\n",
    "padlock_leader = \"\"\n",
    "# SET THE MOVEABLE ARM OF THE SPLINT\n",
    "splint_arm = \"\"\n",
    "# SET THE BARCODE OF THE PADLOCK\n",
    "padlock_barcode = \"\"\n",
    "# SET THE NAME OF EXCEL FILE TO SAVE TO\n",
    "output_filename = \"\"\n",
    "# SET THE SEQUENCE TO FIND PROBES FOR\n",
    "sequence = \"\""
   ]
  },
  {
   "cell_type": "markdown",
   "metadata": {},
   "source": [
    "## Computation\n",
    "__WARNING__ Do not adjust the code below, unless you know exactly what you intend to do."
   ]
  },
  {
   "cell_type": "code",
   "execution_count": null,
   "metadata": {},
   "outputs": [],
   "source": [
    "# run to import the snail probe designer class\n",
    "%run snail_probe_designer.py\n",
    "spd = snail_probe_designer(tm=(min_temp,max_temp),gc=(g_content,100-g_content), sep=(0,max_sep), size=(min_length, max_length))\n",
    "spd.prime(sequence, target_name)\n",
    "spd.get_kmers()\n",
    "spd.score_kmers()\n",
    "spd.write_probes_to_csv(\"../../2_output/temp/\" + output_filename + \".csv\")\n",
    "print(\"{} potential probe pairs found.\".format(len(spd.scored_probe_pairs)))\n",
    "\n",
    "# print out the top probe pairs, one per line\n",
    "top_probes = spd.get_top_probes()\n",
    "print(\"The best probes are:\")\n",
    "for i in range(len(top_probes)):\n",
    "    print(top_probes[i])\n",
    "\n",
    "spd.sanity_check_probes('../../2_output/temp/' + target_name + '_sanity_check.html')"
   ]
  }
 ],
 "metadata": {
  "hide_input": false,
  "kernelspec": {
   "display_name": "Python 3",
   "language": "python",
   "name": "python3"
  },
  "language_info": {
   "codemirror_mode": {
    "name": "ipython",
    "version": 3
   },
   "file_extension": ".py",
   "mimetype": "text/x-python",
   "name": "python",
   "nbconvert_exporter": "python",
   "pygments_lexer": "ipython3",
   "version": "3.6.8"
  },
  "varInspector": {
   "cols": {
    "lenName": 16,
    "lenType": 16,
    "lenVar": 40
   },
   "kernels_config": {
    "python": {
     "delete_cmd_postfix": "",
     "delete_cmd_prefix": "del ",
     "library": "var_list.py",
     "varRefreshCmd": "print(var_dic_list())"
    },
    "r": {
     "delete_cmd_postfix": ") ",
     "delete_cmd_prefix": "rm(",
     "library": "var_list.r",
     "varRefreshCmd": "cat(var_dic_list()) "
    }
   },
   "types_to_exclude": [
    "module",
    "function",
    "builtin_function_or_method",
    "instance",
    "_Feature"
   ],
   "window_display": false
  }
 },
 "nbformat": 4,
 "nbformat_minor": 2
}
